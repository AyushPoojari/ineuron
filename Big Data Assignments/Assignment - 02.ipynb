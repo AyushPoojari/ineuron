{
 "cells": [
  {
   "cell_type": "markdown",
   "id": "983cc883",
   "metadata": {},
   "source": [
    "`Assignments - 02`\n",
    "1. Write an SQL query to retrieve the names and email addresses of all employees from a table named \"Employees\".\n",
    "2. Write an SQL query to filter records from a table named \"Customers\" where the \"City\" column is 'New York'.\n",
    "3. Write an SQL query to sort records in descending order based on the \"DateOfBirth\" column in a table named \"Users\".\n",
    "4. Write an SQL query to sort records in ascending order based on the \"RegistrationDate\" column in a table named \"Users\".\n",
    "5. Write an SQL query to find the employee with the highest salary from a table named \"Employees\" and display their name, position, and salary.\n",
    "6. Write an SQL query to retrieve records from a table named \"Customers\" where the \"Phone\" column matches the pattern '+1-XXX-XXX-XXXX'.\n",
    "7. Write an SQL query to retrieve the top 5 customers with the highest total purchase amount from a table named \"Orders\" and display their names and total purchase amounts.\n",
    "8. Write an SQL query to calculate the percentage of sales for each product category in a table named \"Sales\" and display the category name, total sales amount, and the percentage of total sales.\n",
    "9. Write an SQL query to find the customers who have made the highest total purchases across all years from a table named \"Orders\" and display their names, email addresses, and the total purchase amount."
   ]
  },
  {
   "cell_type": "markdown",
   "id": "213d637e",
   "metadata": {},
   "source": [
    "```\n",
    "SELECT Name, Email\n",
    "FROM Employees;\n",
    "\n",
    "SELECT *\n",
    "FROM Customers\n",
    "WHERE City = 'New York';\n",
    "\n",
    "SELECT *\n",
    "FROM Users\n",
    "ORDER BY DateOfBirth DESC;\n",
    "\n",
    "SELECT *\n",
    "FROM Users\n",
    "ORDER BY DateOfBirth DESC;\n",
    "\n",
    "SELECT *\n",
    "FROM Users\n",
    "ORDER BY RegistrationDate ASC;\n",
    "\n",
    "SELECT Name, Position, Salary\n",
    "FROM Employees\n",
    "WHERE Salary = (SELECT MAX(Salary) FROM Employees);\n",
    "\n",
    "SELECT *\n",
    "FROM Customers\n",
    "WHERE Phone LIKE '+1-';\n",
    "\n",
    "SELECT Customers.Name, SUM(Orders.Amount) AS TotalPurchaseAmount\n",
    "FROM Orders\n",
    "INNER JOIN Customers ON Orders.CustomerID = Customers.ID\n",
    "GROUP BY Customers.ID\n",
    "ORDER BY TotalPurchaseAmount DESC\n",
    "LIMIT 5;\n",
    "\n",
    "SELECT Category, SUM(Amount) AS TotalSalesAmount, (SUM(Amount) / (SELECT SUM(Amount) FROM Sales)) * 100 AS PercentageOfTotalSales\n",
    "FROM Sales\n",
    "GROUP BY Category;\n",
    "\n",
    "SELECT Customers.Name, Customers.Email, SUM(Orders.Amount) AS TotalPurchaseAmount\n",
    "FROM Orders\n",
    "INNER JOIN Customers ON Orders.CustomerID = Customers.ID\n",
    "GROUP BY Customers.ID\n",
    "HAVING TotalPurchaseAmount = (SELECT MAX(TotalPurchaseAmount) FROM (SELECT SUM(Amount) AS TotalPurchaseAmount FROM Orders GROUP BY CustomerID) AS T);\n",
    "\n",
    "```"
   ]
  }
 ],
 "metadata": {
  "kernelspec": {
   "display_name": "Python 3 (ipykernel)",
   "language": "python",
   "name": "python3"
  },
  "language_info": {
   "codemirror_mode": {
    "name": "ipython",
    "version": 3
   },
   "file_extension": ".py",
   "mimetype": "text/x-python",
   "name": "python",
   "nbconvert_exporter": "python",
   "pygments_lexer": "ipython3",
   "version": "3.9.7"
  }
 },
 "nbformat": 4,
 "nbformat_minor": 5
}
