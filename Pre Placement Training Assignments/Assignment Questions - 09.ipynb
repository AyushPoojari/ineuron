{
 "cells": [
  {
   "cell_type": "markdown",
   "id": "efc93263",
   "metadata": {},
   "source": [
    "💡 **Question 1**\n",
    "\n",
    "Given an integer `n`, return *`true` if it is a power of two. Otherwise, return `false`*.\n",
    "\n",
    "An integer `n` is a power of two, if there exists an integer `x` such that `n == 2x`.\n",
    "\n",
    "**Example 1:**\n",
    "Input: n = 1 \n",
    "\n",
    "Output: true\n",
    "\n",
    "**Example 2:**\n",
    "Input: n = 16 \n",
    "\n",
    "Output: true\n",
    "\n",
    "**Example 3:**\n",
    "Input: n = 3 \n",
    "\n",
    "Output: false"
   ]
  },
  {
   "cell_type": "code",
   "execution_count": 1,
   "id": "8d0e639e",
   "metadata": {},
   "outputs": [
    {
     "name": "stdout",
     "output_type": "stream",
     "text": [
      "True\n",
      "True\n",
      "False\n"
     ]
    }
   ],
   "source": [
    "def isPowerOfTwo(n):\n",
    "    return n > 0 and (n & (n - 1)) == 0\n",
    "\n",
    "n1 = 1\n",
    "n2 = 16\n",
    "n3 = 3\n",
    "print(isPowerOfTwo(n1))  \n",
    "print(isPowerOfTwo(n2))  \n",
    "print(isPowerOfTwo(n3))  "
   ]
  },
  {
   "cell_type": "markdown",
   "id": "ea48595e",
   "metadata": {},
   "source": [
    "💡 **Question 2**\n",
    "\n",
    "Given a number n, find the sum of the first natural numbers.\n",
    "\n",
    "**Example 1:**\n",
    "\n",
    "Input: n = 3 \n",
    "\n",
    "Output: 6\n",
    "\n",
    "**Example 2:**\n",
    "\n",
    "Input  : 5 \n",
    "\n",
    "Output : 15"
   ]
  },
  {
   "cell_type": "code",
   "execution_count": 2,
   "id": "1931129c",
   "metadata": {},
   "outputs": [
    {
     "name": "stdout",
     "output_type": "stream",
     "text": [
      "6\n",
      "15\n"
     ]
    }
   ],
   "source": [
    "def sumOfFirstN(n):\n",
    "    return (n * (n + 1)) // 2\n",
    "\n",
    "n1 = 3\n",
    "n2 = 5\n",
    "print(sumOfFirstN(n1))  # Output: 6\n",
    "print(sumOfFirstN(n2))  # Output: 15"
   ]
  },
  {
   "cell_type": "markdown",
   "id": "81e9d7cc",
   "metadata": {},
   "source": [
    "💡 **Question 3**\n",
    "\n",
    "****Given a positive integer, N. Find the factorial of N. \n",
    "\n",
    "**Example 1:**\n",
    "\n",
    "Input: N = 5 \n",
    "\n",
    "Output: 120\n",
    "\n",
    "**Example 2:**\n",
    "\n",
    "Input: N = 4\n",
    "\n",
    "Output: 24"
   ]
  },
  {
   "cell_type": "code",
   "execution_count": 3,
   "id": "2798cdd3",
   "metadata": {},
   "outputs": [
    {
     "name": "stdout",
     "output_type": "stream",
     "text": [
      "120\n",
      "24\n"
     ]
    }
   ],
   "source": [
    "def factorial(N):\n",
    "    if N == 0 or N == 1:\n",
    "        return 1\n",
    "    else:\n",
    "        return N * factorial(N - 1)\n",
    "\n",
    "N1 = 5\n",
    "N2 = 4\n",
    "print(factorial(N1))  # Output: 120\n",
    "print(factorial(N2))  # Output: 24"
   ]
  },
  {
   "cell_type": "markdown",
   "id": "c8459e19",
   "metadata": {},
   "source": [
    "💡 **Question 4**\n",
    "\n",
    "Given a number N and a power P, the task is to find the exponent of this number raised to the given power, i.e. N^P.\n",
    "\n",
    "**Example 1 :** \n",
    "\n",
    "Input: N = 5, P = 2\n",
    "\n",
    "Output: 25\n",
    "\n",
    "**Example 2 :**\n",
    "Input: N = 2, P = 5\n",
    "\n",
    "Output: 32"
   ]
  },
  {
   "cell_type": "code",
   "execution_count": 4,
   "id": "8bce52d8",
   "metadata": {},
   "outputs": [
    {
     "name": "stdout",
     "output_type": "stream",
     "text": [
      "25\n",
      "32\n"
     ]
    }
   ],
   "source": [
    "def exponentiation(N, P):\n",
    "    return N ** P\n",
    "\n",
    "N1 = 5\n",
    "P1 = 2\n",
    "N2 = 2\n",
    "P2 = 5\n",
    "print(exponentiation(N1, P1))  # Output: 25\n",
    "print(exponentiation(N2, P2))  # Output: 32"
   ]
  },
  {
   "cell_type": "markdown",
   "id": "6ed598b7",
   "metadata": {},
   "source": [
    "💡 **Question 5**\n",
    "\n",
    "Given an array of integers **arr**, the task is to find maximum element of that array using recursion.\n",
    "\n",
    "**Example 1:**\n",
    "\n",
    "Input: arr = {1, 4, 3, -5, -4, 8, 6};\n",
    "Output: 8\n",
    "\n",
    "**Example 2:**\n",
    "\n",
    "Input: arr = {1, 4, 45, 6, 10, -8};\n",
    "Output: 45"
   ]
  },
  {
   "cell_type": "code",
   "execution_count": 5,
   "id": "da512b51",
   "metadata": {},
   "outputs": [
    {
     "name": "stdout",
     "output_type": "stream",
     "text": [
      "8\n",
      "45\n"
     ]
    }
   ],
   "source": [
    "def findMax(arr):\n",
    "    length = len(arr)\n",
    "    # Base case\n",
    "    if length == 1:\n",
    "        return arr[0]\n",
    "    # Recursive case\n",
    "    mid = length // 2\n",
    "    left = arr[:mid]\n",
    "    right = arr[mid:]\n",
    "    max_left = findMax(left)\n",
    "    max_right = findMax(right)\n",
    "    return max(max_left, max_right)\n",
    "\n",
    "arr1 = [1, 4, 3, -5, -4, 8, 6]\n",
    "arr2 = [1, 4, 45, 6, 10, -8]\n",
    "print(findMax(arr1))  # Output: 8\n",
    "print(findMax(arr2))  # Output: 45"
   ]
  },
  {
   "cell_type": "markdown",
   "id": "ca2775ba",
   "metadata": {},
   "source": [
    "💡 **Question 6**\n",
    "\n",
    "Given first term (a), common difference (d) and a integer N of the Arithmetic Progression series, the task is to find Nth term of the series.\n",
    "\n",
    "**Example 1:**\n",
    "\n",
    "Input : a = 2 d = 1 N = 5\n",
    "Output : 6\n",
    "The 5th term of the series is : 6\n",
    "\n",
    "**Example 2:**\n",
    "\n",
    "Input : a = 5 d = 2 N = 10\n",
    "Output : 23\n",
    "The 10th term of the series is : 23"
   ]
  },
  {
   "cell_type": "code",
   "execution_count": 6,
   "id": "9564b0e6",
   "metadata": {},
   "outputs": [],
   "source": [
    "def findNthTerm(a, d, N):\n",
    "    nth_term = a + (N - 1) * d\n",
    "    return nth_term"
   ]
  },
  {
   "cell_type": "markdown",
   "id": "4fba0b1f",
   "metadata": {},
   "source": [
    "💡 **Question 7**\n",
    "\n",
    "Given a string S, the task is to write a program to print all permutations of a given string.\n",
    "\n",
    "**Example 1:**\n",
    "\n",
    "***Input:***\n",
    "\n",
    "*S = “ABC”*\n",
    "\n",
    "***Output:***\n",
    "\n",
    "*“ABC”, “ACB”, “BAC”, “BCA”, “CBA”, “CAB”*\n",
    "\n",
    "**Example 2:**\n",
    "\n",
    "***Input:***\n",
    "\n",
    "*S = “XY”*\n",
    "\n",
    "***Output:***\n",
    "\n",
    "*“XY”, “YX”*\n"
   ]
  },
  {
   "cell_type": "code",
   "execution_count": 7,
   "id": "9116f5a2",
   "metadata": {},
   "outputs": [
    {
     "name": "stdout",
     "output_type": "stream",
     "text": [
      "['ABC', 'ACB', 'BAC', 'BCA', 'CAB', 'CBA']\n",
      "['XY', 'YX']\n"
     ]
    }
   ],
   "source": [
    "def permuteUtil(permutation, remaining, permutations):\n",
    "    if len(remaining) == 0:\n",
    "        permutations.append(permutation)\n",
    "    else:\n",
    "        for i in range(len(remaining)):\n",
    "            new_permutation = permutation + remaining[i]\n",
    "            new_remaining = remaining[:i] + remaining[i+1:]\n",
    "            permuteUtil(new_permutation, new_remaining, permutations)\n",
    "\n",
    "def permute(S):\n",
    "    permutations = []\n",
    "    permuteUtil(\"\", S, permutations)\n",
    "    return permutations\n",
    "\n",
    "S1 = \"ABC\"\n",
    "S2 = \"XY\"\n",
    "print(permute(S1))  # Output: ['ABC', 'ACB', 'BAC', 'BCA', 'CAB', 'CBA']\n",
    "print(permute(S2))  # Output: ['XY', 'YX']"
   ]
  },
  {
   "cell_type": "markdown",
   "id": "4797fe2e",
   "metadata": {},
   "source": [
    "💡 **Question 8**\n",
    "\n",
    "Given an array, find a product of all array elements.\n",
    "\n",
    "**Example 1:**\n",
    "\n",
    "Input  : arr[] = {1, 2, 3, 4, 5}\n",
    "Output : 120\n",
    "**Example 2:**\n",
    "\n",
    "Input  : arr[] = {1, 6, 3}\n",
    "Output : 18"
   ]
  },
  {
   "cell_type": "code",
   "execution_count": 9,
   "id": "10864a75",
   "metadata": {},
   "outputs": [
    {
     "name": "stdout",
     "output_type": "stream",
     "text": [
      "120\n",
      "18\n"
     ]
    }
   ],
   "source": [
    "def productOfArray(arr):\n",
    "    product = 1\n",
    "    for num in arr:\n",
    "        product *= num\n",
    "    return product\n",
    "\n",
    "arr1 = [1, 2, 3, 4, 5]\n",
    "arr2 = [1, 6, 3]\n",
    "print(productOfArray(arr1))  # Output: 120\n",
    "print(productOfArray(arr2))  # Output: 18"
   ]
  }
 ],
 "metadata": {
  "kernelspec": {
   "display_name": "Python 3 (ipykernel)",
   "language": "python",
   "name": "python3"
  },
  "language_info": {
   "codemirror_mode": {
    "name": "ipython",
    "version": 3
   },
   "file_extension": ".py",
   "mimetype": "text/x-python",
   "name": "python",
   "nbconvert_exporter": "python",
   "pygments_lexer": "ipython3",
   "version": "3.9.7"
  }
 },
 "nbformat": 4,
 "nbformat_minor": 5
}
