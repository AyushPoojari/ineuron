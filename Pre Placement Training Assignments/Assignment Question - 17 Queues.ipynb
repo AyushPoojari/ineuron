{
 "cells": [
  {
   "cell_type": "markdown",
   "id": "e20c9fa3",
   "metadata": {},
   "source": [
    "💡 **Question 1**\n",
    "\n",
    "Given a string `s`, *find the first non-repeating character in it and return its index*. If it does not exist, return `-1`.\n",
    "\n",
    "**Example 1:**\n",
    "\n",
    "```\n",
    "Input: s = \"leetcode\"\n",
    "Output: 0\n",
    "\n",
    "```\n",
    "\n",
    "**Example 2:**\n",
    "\n",
    "```\n",
    "Input: s = \"loveleetcode\"\n",
    "Output: 2\n",
    "\n",
    "```"
   ]
  },
  {
   "cell_type": "code",
   "execution_count": 1,
   "id": "577badff",
   "metadata": {},
   "outputs": [
    {
     "name": "stdout",
     "output_type": "stream",
     "text": [
      "0\n",
      "2\n"
     ]
    }
   ],
   "source": [
    "def firstUniqChar(s):\n",
    "    char_counts = {}\n",
    "\n",
    "    # Step 1: Count the occurrences of each character\n",
    "    for char in s:\n",
    "        if char in char_counts:\n",
    "            char_counts[char] += 1\n",
    "        else:\n",
    "            char_counts[char] = 1\n",
    "\n",
    "    # Step 2: Find the first non-repeating character\n",
    "    for i, char in enumerate(s):\n",
    "        if char_counts[char] == 1:\n",
    "            return i\n",
    "\n",
    "    # Step 3: No non-repeating character found\n",
    "    return -1\n",
    "\n",
    "s1 = \"leetcode\"\n",
    "print(firstUniqChar(s1))  # Output: 0\n",
    "\n",
    "s2 = \"loveleetcode\"\n",
    "print(firstUniqChar(s2))  # Output: 2"
   ]
  },
  {
   "cell_type": "markdown",
   "id": "a9a3c995",
   "metadata": {},
   "source": [
    "💡 **Question 2**\n",
    "\n",
    "Given a **circular integer array** `nums` of length `n`, return *the maximum possible sum of a non-empty **subarray** of* `nums`.\n",
    "\n",
    "A **circular array** means the end of the array connects to the beginning of the array. Formally, the next element of `nums[i]` is `nums[(i + 1) % n]` and the previous element of `nums[i]` is `nums[(i - 1 + n) % n]`.\n",
    "\n",
    "A **subarray** may only include each element of the fixed buffer `nums` at most once. Formally, for a subarray `nums[i], nums[i + 1], ..., nums[j]`, there does not exist `i <= k1`, `k2 <= j` with `k1 % n == k2 % n`.\n",
    "\n",
    "**Example 1:**\n",
    "\n",
    "```\n",
    "Input: nums = [1,-2,3,-2]\n",
    "Output: 3\n",
    "Explanation: Subarray [3] has maximum sum 3.\n",
    "\n",
    "```\n",
    "\n",
    "**Example 2:**\n",
    "\n",
    "```\n",
    "Input: nums = [5,-3,5]\n",
    "Output: 10\n",
    "Explanation: Subarray [5,5] has maximum sum 5 + 5 = 10.\n",
    "\n",
    "```"
   ]
  },
  {
   "cell_type": "code",
   "execution_count": 2,
   "id": "36371a3a",
   "metadata": {},
   "outputs": [
    {
     "name": "stdout",
     "output_type": "stream",
     "text": [
      "3\n",
      "7\n"
     ]
    }
   ],
   "source": [
    "def maxSubarraySumCircular(nums):\n",
    "    def kadane(nums):\n",
    "        current_sum = 0\n",
    "        max_sum = float('-inf')\n",
    "        \n",
    "        for num in nums:\n",
    "            current_sum = max(num, current_sum + num)\n",
    "            max_sum = max(max_sum, current_sum)\n",
    "        \n",
    "        return max_sum\n",
    "    \n",
    "    max_sum_non_circular = kadane(nums)\n",
    "    \n",
    "    total_sum = sum(nums)\n",
    "    \n",
    "    inverted_nums = [-num for num in nums]\n",
    "    \n",
    "    min_sum_non_circular = kadane(inverted_nums)\n",
    "    \n",
    "    max_sum_circular = total_sum - min_sum_non_circular\n",
    "    \n",
    "    return max(max_sum_non_circular, max_sum_circular)\n",
    "\n",
    "nums1 = [1, -2, 3, -2]\n",
    "print(maxSubarraySumCircular(nums1)) \n",
    "\n",
    "nums2 = [5, -3, 5]\n",
    "print(maxSubarraySumCircular(nums2))  "
   ]
  },
  {
   "cell_type": "markdown",
   "id": "d54e2243",
   "metadata": {},
   "source": [
    "💡 **Question 3**\n",
    "\n",
    "The school cafeteria offers circular and square sandwiches at lunch break, referred to by numbers `0` and `1` respectively. All students stand in a queue. Each student either prefers square or circular sandwiches.\n",
    "\n",
    "The number of sandwiches in the cafeteria is equal to the number of students. The sandwiches are placed in a **stack**. At each step:\n",
    "\n",
    "- If the student at the front of the queue **prefers** the sandwich on the top of the stack, they will **take it** and leave the queue.\n",
    "- Otherwise, they will **leave it** and go to the queue's end.\n",
    "\n",
    "This continues until none of the queue students want to take the top sandwich and are thus unable to eat.\n",
    "\n",
    "You are given two integer arrays `students` and `sandwiches` where `sandwiches[i]` is the type of the `ith` sandwich in the stack (`i = 0` is the top of the stack) and `students[j]` is the preference of the `jth` student in the initial queue (`j = 0` is the front of the queue). Return *the number of students that are unable to eat.*\n",
    "\n",
    "**Example 1:**\n",
    "\n",
    "```\n",
    "Input: students = [1,1,0,0], sandwiches = [0,1,0,1]\n",
    "Output: 0\n",
    "Explanation:\n",
    "- Front student leaves the top sandwich and returns to the end of the line making students = [1,0,0,1].\n",
    "- Front student leaves the top sandwich and returns to the end of the line making students = [0,0,1,1].\n",
    "- Front student takes the top sandwich and leaves the line making students = [0,1,1] and sandwiches = [1,0,1].\n",
    "- Front student leaves the top sandwich and returns to the end of the line making students = [1,1,0].\n",
    "- Front student takes the top sandwich and leaves the line making students = [1,0] and sandwiches = [0,1].\n",
    "- Front student leaves the top sandwich and returns to the end of the line making students = [0,1].\n",
    "- Front student takes the top sandwich and leaves the line making students = [1] and sandwiches = [1].\n",
    "- Front student takes the top sandwich and leaves the line making students = [] and sandwiches = [].\n",
    "Hence all students are able to eat.\n",
    "\n",
    "```\n"
   ]
  },
  {
   "cell_type": "code",
   "execution_count": 3,
   "id": "ee3e7a99",
   "metadata": {},
   "outputs": [
    {
     "name": "stdout",
     "output_type": "stream",
     "text": [
      "0\n"
     ]
    }
   ],
   "source": [
    "def countStudents(students, sandwiches):\n",
    "    unable_to_eat = 0\n",
    "    queue = students\n",
    "    \n",
    "    while queue:\n",
    "        if queue[0] == sandwiches[0]:\n",
    "            queue.pop(0)\n",
    "            sandwiches.pop(0)\n",
    "            unable_to_eat = 0\n",
    "        else:\n",
    "            queue.append(queue.pop(0))\n",
    "            unable_to_eat += 1\n",
    "        \n",
    "        if unable_to_eat == len(queue):\n",
    "            break\n",
    "    \n",
    "    return unable_to_eat\n",
    "\n",
    "students1 = [1, 1, 0, 0]\n",
    "sandwiches1 = [0, 1, 0, 1]\n",
    "print(countStudents(students1, sandwiches1))"
   ]
  },
  {
   "cell_type": "markdown",
   "id": "cecd1aa2",
   "metadata": {},
   "source": [
    "💡 **Question 4**\n",
    "\n",
    "You have a `RecentCounter` class which counts the number of recent requests within a certain time frame.\n",
    "\n",
    "Implement the `RecentCounter` class:\n",
    "\n",
    "- `RecentCounter()` Initializes the counter with zero recent requests.\n",
    "- `int ping(int t)` Adds a new request at time `t`, where `t` represents some time in milliseconds, and returns the number of requests that has happened in the past `3000` milliseconds (including the new request). Specifically, return the number of requests that have happened in the inclusive range `[t - 3000, t]`.\n",
    "\n",
    "It is **guaranteed** that every call to `ping` uses a strictly larger value of `t` than the previous call."
   ]
  },
  {
   "cell_type": "code",
   "execution_count": 4,
   "id": "225ceb78",
   "metadata": {},
   "outputs": [
    {
     "name": "stdout",
     "output_type": "stream",
     "text": [
      "1\n",
      "2\n",
      "3\n",
      "3\n"
     ]
    }
   ],
   "source": [
    "from collections import deque\n",
    "\n",
    "class RecentCounter:\n",
    "    def __init__(self):\n",
    "        self.requests = deque()\n",
    "\n",
    "    def ping(self, t):\n",
    "        self.requests.append(t)\n",
    "\n",
    "        # Remove timestamps outside the time frame\n",
    "        while self.requests and self.requests[0] < t - 3000:\n",
    "            self.requests.popleft()\n",
    "\n",
    "        return len(self.requests)\n",
    "    \n",
    "    \n",
    "rc = RecentCounter()\n",
    "print(rc.ping(1))\n",
    "print(rc.ping(100))\n",
    "print(rc.ping(3001))\n",
    "print(rc.ping(3002)) "
   ]
  },
  {
   "cell_type": "markdown",
   "id": "0374fe56",
   "metadata": {},
   "source": [
    "💡 **Question 5**\n",
    "\n",
    "There are `n` friends that are playing a game. The friends are sitting in a circle and are numbered from `1` to `n` in **clockwise order**. More formally, moving clockwise from the `ith` friend brings you to the `(i+1)th` friend for `1 <= i < n`, and moving clockwise from the `nth` friend brings you to the `1st` friend.\n",
    "\n",
    "The rules of the game are as follows:\n",
    "\n",
    "1. **Start** at the `1st` friend.\n",
    "2. Count the next `k` friends in the clockwise direction **including** the friend you started at. The counting wraps around the circle and may count some friends more than once.\n",
    "3. The last friend you counted leaves the circle and loses the game.\n",
    "4. If there is still more than one friend in the circle, go back to step `2` **starting** from the friend **immediately clockwise** of the friend who just lost and repeat.\n",
    "5. Else, the last friend in the circle wins the game.\n",
    "\n",
    "Given the number of friends, `n`, and an integer `k`, return *the winner of the game*."
   ]
  },
  {
   "cell_type": "code",
   "execution_count": 5,
   "id": "8cf17bb7",
   "metadata": {},
   "outputs": [
    {
     "name": "stdout",
     "output_type": "stream",
     "text": [
      "4\n"
     ]
    }
   ],
   "source": [
    "class ListNode:\n",
    "    def __init__(self, val=0, next=None):\n",
    "        self.val = val\n",
    "        self.next = next\n",
    "\n",
    "def findTheWinner(n, k):\n",
    "    head = ListNode(1)\n",
    "    curr = head\n",
    "    for i in range(2, n + 1):\n",
    "        curr.next = ListNode(i)\n",
    "        curr = curr.next\n",
    "    curr.next = head\n",
    "\n",
    "    curr = head\n",
    "    while curr.next != curr:\n",
    "        for _ in range(k - 1):\n",
    "            curr = curr.next\n",
    "\n",
    "        curr.next = curr.next.next\n",
    "\n",
    "        curr = curr.next\n",
    "\n",
    "    return curr.val\n",
    "\n",
    "n = 5\n",
    "k = 2\n",
    "print(findTheWinner(n, k))"
   ]
  },
  {
   "cell_type": "markdown",
   "id": "ae158ddc",
   "metadata": {},
   "source": [
    "💡 **Question 6**\n",
    "\n",
    "You are given an integer array `deck`. There is a deck of cards where every card has a unique integer. The integer on the `ith` card is `deck[i]`.\n",
    "\n",
    "You can order the deck in any order you want. Initially, all the cards start face down (unrevealed) in one deck.\n",
    "\n",
    "You will do the following steps repeatedly until all cards are revealed:\n",
    "\n",
    "1. Take the top card of the deck, reveal it, and take it out of the deck.\n",
    "2. If there are still cards in the deck then put the next top card of the deck at the bottom of the deck.\n",
    "3. If there are still unrevealed cards, go back to step 1. Otherwise, stop.\n",
    "\n",
    "Return *an ordering of the deck that would reveal the cards in increasing order*.\n",
    "\n",
    "**Note** that the first entry in the answer is considered to be the top of the deck.\n",
    "\n",
    "**Example 1:**\n",
    "\n",
    "```\n",
    "Input: deck = [17,13,11,2,3,5,7]\n",
    "Output: [2,13,3,11,5,17,7]\n",
    "Explanation:\n",
    "We get the deck in the order [17,13,11,2,3,5,7] (this order does not matter), and reorder it.\n",
    "After reordering, the deck starts as [2,13,3,11,5,17,7], where 2 is the top of the deck.\n",
    "We reveal 2, and move 13 to the bottom.  The deck is now [3,11,5,17,7,13].\n",
    "We reveal 3, and move 11 to the bottom.  The deck is now [5,17,7,13,11].\n",
    "We reveal 5, and move 17 to the bottom.  The deck is now [7,13,11,17].\n",
    "We reveal 7, and move 13 to the bottom.  The deck is now [11,17,13].\n",
    "We reveal 11, and move 17 to the bottom.  The deck is now [13,17].\n",
    "We reveal 13, and move 17 to the bottom.  The deck is now [17].\n",
    "We reveal 17.\n",
    "Since all the cards revealed are in increasing order, the answer is correct.\n",
    "\n",
    "```"
   ]
  },
  {
   "cell_type": "code",
   "execution_count": 6,
   "id": "6c203517",
   "metadata": {},
   "outputs": [
    {
     "name": "stdout",
     "output_type": "stream",
     "text": [
      "[7, 17, 5, 11, 3, 13, 2]\n"
     ]
    }
   ],
   "source": [
    "def deckRevealedIncreasing(deck):\n",
    "    n = len(deck)\n",
    "    deck.sort(reverse=True)\n",
    "    revealed = []\n",
    "    \n",
    "    for card in deck:\n",
    "        if revealed:\n",
    "            revealed.insert(0, revealed.pop())\n",
    "        revealed.insert(0, card)\n",
    "    \n",
    "    return list(reversed(revealed))\n",
    "\n",
    "deck = [17, 13, 11, 2, 3, 5, 7]\n",
    "print(deckRevealedIncreasing(deck))"
   ]
  },
  {
   "cell_type": "markdown",
   "id": "8c37ab55",
   "metadata": {},
   "source": [
    "💡 **Question 7**\n",
    "\n",
    "Design a queue that supports `push` and `pop` operations in the front, middle, and back.\n",
    "\n",
    "Implement the `FrontMiddleBack` class:\n",
    "\n",
    "- `FrontMiddleBack()` Initializes the queue.\n",
    "- `void pushFront(int val)` Adds `val` to the **front** of the queue.\n",
    "- `void pushMiddle(int val)` Adds `val` to the **middle** of the queue.\n",
    "- `void pushBack(int val)` Adds `val` to the **back** of the queue.\n",
    "- `int popFront()` Removes the **front** element of the queue and returns it. If the queue is empty, return `1`.\n",
    "- `int popMiddle()` Removes the **middle** element of the queue and returns it. If the queue is empty, return `1`.\n",
    "- `int popBack()` Removes the **back** element of the queue and returns it. If the queue is empty, return `1`.\n",
    "\n",
    "**Notice** that when there are **two** middle position choices, the operation is performed on the **frontmost** middle position choice. For example:\n",
    "\n",
    "- Pushing `6` into the middle of `[1, 2, 3, 4, 5]` results in `[1, 2, 6, 3, 4, 5]`.\n",
    "- Popping the middle from `[1, 2, 3, 4, 5, 6]` returns `3` and results in `[1, 2, 4, 5, 6]`."
   ]
  },
  {
   "cell_type": "code",
   "execution_count": 7,
   "id": "510c1743",
   "metadata": {},
   "outputs": [
    {
     "name": "stdout",
     "output_type": "stream",
     "text": [
      "1\n",
      "4\n",
      "2\n",
      "3\n",
      "1\n"
     ]
    }
   ],
   "source": [
    "from collections import deque\n",
    "\n",
    "class FrontMiddleBack:\n",
    "    def __init__(self):\n",
    "        self.frontDeque = deque()\n",
    "        self.backDeque = deque()\n",
    "\n",
    "    def pushFront(self, val):\n",
    "        self.frontDeque.appendleft(val)\n",
    "\n",
    "    def pushMiddle(self, val):\n",
    "        if len(self.frontDeque) > len(self.backDeque):\n",
    "            self.frontDeque.append(self.backDeque.popleft())\n",
    "        self.frontDeque.append(val)\n",
    "\n",
    "    def pushBack(self, val):\n",
    "        self.backDeque.append(val)\n",
    "\n",
    "    def popFront(self):\n",
    "        if self.frontDeque:\n",
    "            return self.frontDeque.popleft()\n",
    "        elif self.backDeque:\n",
    "            return self.backDeque.popleft()\n",
    "        else:\n",
    "            return 1\n",
    "\n",
    "    def popMiddle(self):\n",
    "        if len(self.frontDeque) >= len(self.backDeque):\n",
    "            return self.frontDeque.pop()\n",
    "        else:\n",
    "            return self.backDeque.popleft()\n",
    "\n",
    "    def popBack(self):\n",
    "        if self.backDeque:\n",
    "            return self.backDeque.pop()\n",
    "        elif self.frontDeque:\n",
    "            return self.frontDeque.pop()\n",
    "        else:\n",
    "            return 1\n",
    "fmb = FrontMiddleBack()\n",
    "fmb.pushFront(1)\n",
    "fmb.pushBack(2)\n",
    "fmb.pushMiddle(3)\n",
    "fmb.pushMiddle(4)\n",
    "print(fmb.popFront())   # Output: 1\n",
    "print(fmb.popMiddle())  # Output: 4\n",
    "print(fmb.popMiddle())  # Output: 3\n",
    "print(fmb.popBack())    # Output: 2\n",
    "print(fmb.popFront())   # Output: 1 (empty queue, returns 1)"
   ]
  },
  {
   "cell_type": "markdown",
   "id": "518bec50",
   "metadata": {},
   "source": [
    "💡 **Question 8**\n",
    "\n",
    "For a stream of integers, implement a data structure that checks if the last `k` integers parsed in the stream are **equal** to `value`.\n",
    "\n",
    "Implement the **DataStream** class:\n",
    "\n",
    "- `DataStream(int value, int k)` Initializes the object with an empty integer stream and the two integers `value` and `k`.\n",
    "- `boolean consec(int num)` Adds `num` to the stream of integers. Returns `true` if the last `k` integers are equal to `value`, and `false` otherwise. If there are less than `k` integers, the condition does not hold true, so returns `false`."
   ]
  },
  {
   "cell_type": "code",
   "execution_count": 8,
   "id": "4daf8c27",
   "metadata": {},
   "outputs": [
    {
     "name": "stdout",
     "output_type": "stream",
     "text": [
      "False\n",
      "False\n",
      "False\n",
      "True\n",
      "False\n"
     ]
    }
   ],
   "source": [
    "from collections import deque\n",
    "\n",
    "class DataStream:\n",
    "    def __init__(self, value, k):\n",
    "        self.queue = deque()\n",
    "        self.value = value\n",
    "        self.k = k\n",
    "\n",
    "    def consec(self, num):\n",
    "        self.queue.append(num)\n",
    "\n",
    "        if len(self.queue) < self.k:\n",
    "            return False\n",
    "\n",
    "        if len(self.queue) == self.k:\n",
    "            return all(x == self.value for x in self.queue)\n",
    "\n",
    "        self.queue.popleft()\n",
    "        return all(x == self.value for x in self.queue)\n",
    "    \n",
    "ds = DataStream(2, 3)\n",
    "print(ds.consec(1))\n",
    "print(ds.consec(2))\n",
    "print(ds.consec(2))\n",
    "print(ds.consec(2))\n",
    "print(ds.consec(3))"
   ]
  }
 ],
 "metadata": {
  "kernelspec": {
   "display_name": "Python 3 (ipykernel)",
   "language": "python",
   "name": "python3"
  },
  "language_info": {
   "codemirror_mode": {
    "name": "ipython",
    "version": 3
   },
   "file_extension": ".py",
   "mimetype": "text/x-python",
   "name": "python",
   "nbconvert_exporter": "python",
   "pygments_lexer": "ipython3",
   "version": "3.9.7"
  }
 },
 "nbformat": 4,
 "nbformat_minor": 5
}
