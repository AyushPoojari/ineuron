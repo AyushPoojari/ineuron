{
 "cells": [
  {
   "cell_type": "code",
   "execution_count": null,
   "id": "1684d87b-1384-4ba7-8690-ba53280fd118",
   "metadata": {},
   "outputs": [],
   "source": [
    "Question1\n",
    "Create a function that takes three parameters where:\n",
    "•\tx is the start of the range (inclusive).\n",
    "•\ty is the end of the range (inclusive).\n",
    "•\tn is the divisor to be checked against.\n",
    "Return an ordered list with numbers in the range that are divisible by the third parameter n. Return an empty list if there are no numbers that are divisible by n.\n",
    "Examples\n",
    "list_operation(1, 10, 3) ➞ [3, 6, 9]\n",
    "\n",
    "list_operation(7, 9, 2) ➞ [8]\n",
    "\n",
    "list_operation(15, 20, 7) ➞ []\n",
    "\n",
    "Question2\n",
    "Create a function that takes in two lists and returns True if the second list follows the first list by one element, and False otherwise. In other words, determine if the second list is the first list shifted to the right by 1.\n",
    "Examples\n",
    "simon_says([1, 2], [5, 1]) ➞ True\n",
    "\n",
    "simon_says([1, 2], [5, 5]) ➞ False\n",
    "\n",
    "simon_says([1, 2, 3, 4, 5], [0, 1, 2, 3, 4]) ➞ True\n",
    "\n",
    "simon_says([1, 2, 3, 4, 5], [5, 5, 1, 2, 3]) ➞ False\n",
    "Notes\n",
    "•\tBoth input lists will be of the same length, and will have a minimum length of 2.\n",
    "•\tThe values of the 0-indexed element in the second list and the n-1th indexed element in the first list do not matter.\n",
    "\n",
    "Question3\n",
    "A group of friends have decided to start a secret society. The name will be the first letter of each of their names, sorted in alphabetical order.\n",
    "Create a function that takes in a list of names and returns the name of the secret society.\n",
    "Examples\n",
    "society_name([\"Adam\", \"Sarah\", \"Malcolm\"]) ➞ \"AMS\"\n",
    "\n",
    "society_name([\"Harry\", \"Newt\", \"Luna\", \"Cho\"]) ➞ \"CHLN\"\n",
    "\n",
    "society_name([\"Phoebe\", \"Chandler\", \"Rachel\", \"Ross\", \"Monica\", \"Joey\"])\n",
    "\n",
    "Question4\n",
    "An isogram is a word that has no duplicate letters. Create a function that takes a string and returns either True or False depending on whether or not it's an \"isogram\".\n",
    "Examples\n",
    "is_isogram(\"Algorism\") ➞ True\n",
    "\n",
    "is_isogram(\"PasSword\") ➞ False\n",
    "# Not case sensitive.\n",
    "\n",
    "is_isogram(\"Consecutive\") ➞ False\n",
    "Notes\n",
    "•\tIgnore letter case (should not be case sensitive).\n",
    "•\tAll test cases contain valid one word strings.\n",
    "\n",
    "Question5\n",
    "Create a function that takes a string and returns True or False, depending on whether the characters are in order or not.\n",
    "Examples\n",
    "is_in_order(\"abc\") ➞ True\n",
    "\n",
    "is_in_order(\"edabit\") ➞ False\n",
    "\n",
    "is_in_order(\"123\") ➞ True\n",
    "\n",
    "is_in_order(\"xyzz\") ➞ True\n",
    "Notes\n",
    "You don't have to handle empty strings.\n",
    "\n"
   ]
  },
  {
   "cell_type": "code",
   "execution_count": 2,
   "id": "67cf8ccf-a940-44ce-9db9-c6e7689a5f4c",
   "metadata": {},
   "outputs": [],
   "source": [
    "#Q.1\n",
    "def list_operation(x, y, n):\n",
    "    l1 = []\n",
    "    \n",
    "    for i in range(x,y):\n",
    "        if (i%n) == 0:\n",
    "            l1.append(i)\n",
    "    return l1"
   ]
  },
  {
   "cell_type": "code",
   "execution_count": 3,
   "id": "486f5171-b4bf-40b2-8d31-d412272d23c8",
   "metadata": {},
   "outputs": [
    {
     "data": {
      "text/plain": [
       "[3, 6, 9]"
      ]
     },
     "execution_count": 3,
     "metadata": {},
     "output_type": "execute_result"
    }
   ],
   "source": [
    "list_operation(1, 10, 3)\n"
   ]
  },
  {
   "cell_type": "code",
   "execution_count": 4,
   "id": "74a3adb7-a4dd-46b2-a36b-5acdc443a6ac",
   "metadata": {},
   "outputs": [],
   "source": [
    "def simon_says(a,b):\n",
    "    a.remove(a[len(a)-1])\n",
    "    b.remove(b[0])\n",
    "    if set(a) == set(b):\n",
    "        print(True)\n",
    "    else:\n",
    "        print(False)"
   ]
  },
  {
   "cell_type": "code",
   "execution_count": 5,
   "id": "44278f74-9b3f-4bb7-a24c-c8aa8bf36c7d",
   "metadata": {},
   "outputs": [
    {
     "name": "stdout",
     "output_type": "stream",
     "text": [
      "True\n"
     ]
    }
   ],
   "source": [
    "simon_says([1, 2, 3, 4, 5], [0, 1, 2, 3, 4]) "
   ]
  },
  {
   "cell_type": "code",
   "execution_count": 6,
   "id": "cfc8be3a-5fc5-42c7-bbe0-cb4f759b4e64",
   "metadata": {},
   "outputs": [],
   "source": [
    "def society_name(a):\n",
    "    l2 = []\n",
    "    for i in range(len(a)):\n",
    "        first_character = a[i][0]\n",
    "        l2.append(first_character)\n",
    "    l2.sort()\n",
    "    s_name = str(''.join(l2))\n",
    "    print(s_name)              \n"
   ]
  },
  {
   "cell_type": "code",
   "execution_count": 7,
   "id": "ab60f47e-45dc-4e8e-ae11-8e370b7c2e1a",
   "metadata": {},
   "outputs": [
    {
     "name": "stdout",
     "output_type": "stream",
     "text": [
      "AMS\n"
     ]
    }
   ],
   "source": [
    "society_name([\"Adam\", \"Sarah\", \"Malcolm\"])"
   ]
  },
  {
   "cell_type": "code",
   "execution_count": 8,
   "id": "5760e185-2235-4efa-9e0e-5c4e5fd94d76",
   "metadata": {},
   "outputs": [],
   "source": [
    "def is_isogram(a):\n",
    "    b = a.lower()\n",
    "    if len(list(a)) == len(set(b)):\n",
    "        print('True')\n",
    "    else:\n",
    "        print('False')    "
   ]
  },
  {
   "cell_type": "code",
   "execution_count": 9,
   "id": "d8d606da-604f-40d5-aa66-43bc8eee92a3",
   "metadata": {},
   "outputs": [
    {
     "name": "stdout",
     "output_type": "stream",
     "text": [
      "True\n"
     ]
    }
   ],
   "source": [
    "is_isogram(\"Algorism\")"
   ]
  },
  {
   "cell_type": "code",
   "execution_count": 10,
   "id": "805bb220-cb07-4cec-a697-7bfbeb6ddaa1",
   "metadata": {},
   "outputs": [],
   "source": [
    "def is_in_order(word):\n",
    "    \n",
    "    l3 = []\n",
    "    for i in word:\n",
    "        l3.append(i)\n",
    "\n",
    "    l3.sort()\n",
    "    joined_word = ''.join(l3)\n",
    "\n",
    "    if word == joined_word:\n",
    "        print(True)\n",
    "    else:\n",
    "        print(False)"
   ]
  },
  {
   "cell_type": "code",
   "execution_count": 11,
   "id": "59bb8c2b-4ff0-43ee-9084-474f3fdc261f",
   "metadata": {},
   "outputs": [
    {
     "name": "stdout",
     "output_type": "stream",
     "text": [
      "True\n"
     ]
    }
   ],
   "source": [
    "is_in_order(\"abc\")"
   ]
  },
  {
   "cell_type": "code",
   "execution_count": null,
   "id": "9a80c442-4f2e-4933-a311-9fc26a0e815b",
   "metadata": {},
   "outputs": [],
   "source": []
  }
 ],
 "metadata": {
  "kernelspec": {
   "display_name": "Python 3 (ipykernel)",
   "language": "python",
   "name": "python3"
  },
  "language_info": {
   "codemirror_mode": {
    "name": "ipython",
    "version": 3
   },
   "file_extension": ".py",
   "mimetype": "text/x-python",
   "name": "python",
   "nbconvert_exporter": "python",
   "pygments_lexer": "ipython3",
   "version": "3.9.6"
  }
 },
 "nbformat": 4,
 "nbformat_minor": 5
}
