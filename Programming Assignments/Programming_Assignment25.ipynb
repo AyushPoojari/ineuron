{
 "cells": [
  {
   "cell_type": "markdown",
   "id": "3c9360ea-3020-48a3-a5fa-3ac351547d2f",
   "metadata": {},
   "source": [
    "Question1\n",
    "Create a function that takes three integer arguments (a, b, c) and returns the amount of integers which are of equal value.\n",
    "Examples\n",
    "equal(3, 4, 3) ➞ 2\n",
    "\n",
    "equal(1, 1, 1) ➞ 3\n",
    "\n",
    "equal(3, 4, 1) ➞ 0 \n",
    "Notes\n",
    "Your function must return 0, 2 or 3.\n",
    "\n",
    "Question2\n",
    "Write a function that converts a dictionary into a list of keys-values tuples.\n",
    "Examples\n",
    "dict_to_list({\n",
    "  \"D\": 1,\n",
    "  \"B\": 2,\n",
    "  \"C\": 3\n",
    "}) ➞ [(\"B\", 2), (\"C\", 3), (\"D\", 1)]\n",
    "\n",
    "dict_to_list({\n",
    "  \"likes\": 2,\n",
    "  \"dislikes\": 3,\n",
    "  \"followers\": 10\n",
    "}) ➞ [(\"dislikes\", 3), (\"followers\", 10), (\"likes\", 2)]\n",
    "Notes\n",
    "Return the elements in the list in alphabetical order.\n",
    "\n",
    "Question3\n",
    "Write a function that creates a dictionary with each (key, value) pair being the (lower case, upper case) versions of a letter, respectively.\n",
    "Examples\n",
    "mapping([\"p\", \"s\"]) ➞ { \"p\": \"P\", \"s\": \"S\" }\n",
    "\n",
    "mapping([\"a\", \"b\", \"c\"]) ➞ { \"a\": \"A\", \"b\": \"B\", \"c\": \"C\" }\n",
    "\n",
    "mapping([\"a\", \"v\", \"y\", \"z\"]) ➞ { \"a\": \"A\", \"v\": \"V\", \"y\": \"Y\", \"z\": \"Z\" }\n",
    "Notes\n",
    "All of the letters in the input list will always be lowercase.\n",
    "\n",
    "Question4\n",
    "Write a function, that replaces all vowels in a string with a specified vowel.\n",
    "Examples\n",
    "vow_replace(\"apples and bananas\", \"u\") ➞ \"upplus und bununus\"\n",
    "\n",
    "vow_replace(\"cheese casserole\", \"o\") ➞ \"chooso cossorolo\"\n",
    "\n",
    "vow_replace(\"stuffed jalapeno poppers\", \"e\") ➞ \"steffed jelepene peppers\"\n",
    "Notes\n",
    "All words will be lowercase. Y is not considered a vowel.\n",
    "\n",
    "Question5\n",
    "Create a function that takes a string as input and capitalizes a letter if its ASCII code is even and returns its lower case version if its ASCII code is odd.\n",
    "Examples\n",
    "ascii_capitalize(\"to be or not to be!\") ➞ \"To Be oR NoT To Be!\"\n",
    "\n",
    "ascii_capitalize(\"THE LITTLE MERMAID\") ➞ \"THe LiTTLe meRmaiD\"\n",
    "\n",
    "ascii_capitalize(\"Oh what a beautiful morning.\") ➞ \"oH wHaT a BeauTiFuL moRNiNg.\"\n"
   ]
  },
  {
   "cell_type": "code",
   "execution_count": 6,
   "id": "085b5d36-e9b8-4852-8ce6-02fbb82336f3",
   "metadata": {},
   "outputs": [
    {
     "name": "stdin",
     "output_type": "stream",
     "text": [
      " 3,4,3\n"
     ]
    },
    {
     "data": {
      "text/plain": [
       "2"
      ]
     },
     "execution_count": 6,
     "metadata": {},
     "output_type": "execute_result"
    }
   ],
   "source": [
    "def equal(a,b,c):\n",
    "    if (a == b == c):\n",
    "        return 3\n",
    "    elif(a == b or b == c or a == c):\n",
    "        return 2\n",
    "    return 0\n",
    "\n",
    "value = input()\n",
    "inputs = value.split(',')\n",
    "equal(inputs[0],inputs[1],inputs[2])"
   ]
  },
  {
   "cell_type": "code",
   "execution_count": 7,
   "id": "922f592f-93c7-4e3e-a5e1-c270e05a9fcf",
   "metadata": {},
   "outputs": [
    {
     "name": "stdout",
     "output_type": "stream",
     "text": [
      "[('D', 1), ('B', 2), ('C', 3)]\n"
     ]
    }
   ],
   "source": [
    "dict = {  \"D\": 1,\n",
    "  \"B\": 2,\n",
    "  \"C\": 3}\n",
    " \n",
    "# Converting into list of tuple\n",
    "list = [(k, v) for k, v in dict.items()]\n",
    " \n",
    "# Printing list of tuple\n",
    "print(list)"
   ]
  },
  {
   "cell_type": "code",
   "execution_count": 10,
   "id": "5d9da71d-b697-4ed9-9b2e-e139b5bdfe45",
   "metadata": {},
   "outputs": [
    {
     "name": "stdout",
     "output_type": "stream",
     "text": [
      "Given String: apples and bananas\n",
      "Given Specified Character: u\n",
      "After replacing vowels with the specified character: upplus und bununus\n"
     ]
    }
   ],
   "source": [
    "def replaceVowelsWithK(test_str, K):\n",
    " \n",
    "    # string of vowels\n",
    "    vowels = 'AEIOUaeiou'\n",
    " \n",
    "    # iterating to check vowels in string\n",
    "    for ele in vowels:\n",
    " \n",
    "        # replacing vowel with the specified character\n",
    "        test_str = test_str.replace(ele, K)\n",
    " \n",
    "    return test_str\n",
    " \n",
    " \n",
    "   \n",
    "# Driver Code\n",
    "# input string\n",
    "input_str = \"apples and bananas\"\n",
    " \n",
    "# specified character\n",
    "K = \"u\"\n",
    " \n",
    "# printing input\n",
    "print(\"Given String:\", input_str)\n",
    "print(\"Given Specified Character:\", K)\n",
    " \n",
    "# printing output\n",
    "print(\"After replacing vowels with the specified character:\",\n",
    "      replaceVowelsWithK(input_str, K))"
   ]
  },
  {
   "cell_type": "code",
   "execution_count": 11,
   "id": "687c657f-1746-4ff5-bcaa-f56f47f4c5fb",
   "metadata": {},
   "outputs": [
    {
     "data": {
      "text/plain": [
       "'OH WHAT A BEAUTIFUL MORNING'"
      ]
     },
     "execution_count": 11,
     "metadata": {},
     "output_type": "execute_result"
    }
   ],
   "source": [
    "def my_func(st):\n",
    "    for index in range(len(st)):\n",
    "        if index % 2 == 0:\n",
    "            return st.upper()\n",
    "        else:\n",
    "            return st.lower()\n",
    "        \n",
    "my_func('Oh what a beautiful morning')"
   ]
  },
  {
   "cell_type": "code",
   "execution_count": null,
   "id": "648d4880-b6a0-46ae-b512-741ce9f5acdf",
   "metadata": {},
   "outputs": [],
   "source": []
  }
 ],
 "metadata": {
  "kernelspec": {
   "display_name": "Python 3 (ipykernel)",
   "language": "python",
   "name": "python3"
  },
  "language_info": {
   "codemirror_mode": {
    "name": "ipython",
    "version": 3
   },
   "file_extension": ".py",
   "mimetype": "text/x-python",
   "name": "python",
   "nbconvert_exporter": "python",
   "pygments_lexer": "ipython3",
   "version": "3.9.6"
  }
 },
 "nbformat": 4,
 "nbformat_minor": 5
}
