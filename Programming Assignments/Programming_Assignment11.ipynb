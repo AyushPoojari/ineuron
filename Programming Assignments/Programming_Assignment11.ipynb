{
 "cells": [
  {
   "cell_type": "markdown",
   "id": "bcfdb219-aaa9-49e4-884d-6977f93b65cb",
   "metadata": {},
   "source": [
    "#### Problems\n",
    "1.\tWrite a Python program to find words which are greater than given length k?\n",
    "2.\tWrite a Python program for removing i-th character from a string?\n",
    "3.\tWrite a Python program to split and join a string?\n",
    "4.\tWrite a Python to check if a given string is binary string or not?\n",
    "5.\tWrite a Python program to find uncommon words from two Strings?\n",
    "6.\tWrite a Python to find all duplicate characters in string?\n",
    "7.\tWrite a Python Program to check if a string contains any special character?\n"
   ]
  },
  {
   "cell_type": "code",
   "execution_count": 4,
   "id": "a9156ede-5e24-41aa-aa2d-e37e618d397e",
   "metadata": {},
   "outputs": [
    {
     "name": "stdout",
     "output_type": "stream",
     "text": [
      "['name', 'Ayush']\n"
     ]
    }
   ],
   "source": [
    "ans = []\n",
    "def greater_than_K(K,S):\n",
    "    words = S.split(\" \")\n",
    "    for i in words:\n",
    "        if len(i) > K:\n",
    "            ans.append(i)\n",
    "    return ans\n",
    "\n",
    "K = 2\n",
    "S = \"My name is Ayush\"\n",
    "print(greater_than_K(K,S))"
   ]
  },
  {
   "cell_type": "code",
   "execution_count": 9,
   "id": "1fb08ad6-177a-461c-b805-ae7d132d6691",
   "metadata": {},
   "outputs": [
    {
     "name": "stdout",
     "output_type": "stream",
     "text": [
      "Aush\n"
     ]
    }
   ],
   "source": [
    "def remove_ith(string,i):\n",
    "    a = string[ : i] \n",
    "    b = string[i + 1: ]\n",
    "    return a + b    \n",
    " \n",
    "string = \"Ayush\"\n",
    "i = 2\n",
    "print(remove_ith(string, i-1))\n"
   ]
  },
  {
   "cell_type": "code",
   "execution_count": 11,
   "id": "0e4786b4-a57d-41b7-b560-07551ee62336",
   "metadata": {},
   "outputs": [
    {
     "name": "stdout",
     "output_type": "stream",
     "text": [
      "['My', 'name', 'is', 'Ayush']\n",
      "My*name*is*Ayush\n"
     ]
    }
   ],
   "source": [
    "def split_string(string):\n",
    "    list_string = string.split(' ')\n",
    "     \n",
    "    return list_string\n",
    " \n",
    "def join_string(list_string):\n",
    "    string = '*'.join(list_string)\n",
    "    return string\n",
    "\n",
    "string = 'My name is Ayush'\n",
    "list_string = split_string(string)\n",
    "print(list_string)\n",
    "new_string = join_string(list_string)\n",
    "print(new_string)"
   ]
  },
  {
   "cell_type": "code",
   "execution_count": 14,
   "id": "6bad2345-9172-4723-a3ab-b739530f6265",
   "metadata": {},
   "outputs": [
    {
     "name": "stdout",
     "output_type": "stream",
     "text": [
      "Yes it is Binary\n"
     ]
    }
   ],
   "source": [
    "def check(string):\n",
    "    p = set(string)\n",
    "    s = {'0', '1'}\n",
    "    if s == p or p == {'0'} or p == {'1'}:\n",
    "        print(\"Yes it is Binary\")\n",
    "    else:\n",
    "        print(\"No it is not Binary\")\n",
    " \n",
    "\n",
    "string = \"101010000111\"\n",
    "check(string)"
   ]
  },
  {
   "cell_type": "code",
   "execution_count": 20,
   "id": "8601d195-4672-4a09-9a27-d769a74ee501",
   "metadata": {},
   "outputs": [
    {
     "name": "stdout",
     "output_type": "stream",
     "text": [
      "{'Ayush'}\n"
     ]
    }
   ],
   "source": [
    "def uncommon_word(A,B):\n",
    "    ans = []\n",
    "    l1 = A.split(\" \")\n",
    "    l2 = B.split(\" \")\n",
    "    for i in range(0,len(l1)):\n",
    "        for j in range(0,len(l2)):\n",
    "            if l2[j] != l1[i]:\n",
    "                ans.append(l2[j])\n",
    "    return set(ans)\n",
    "A = \"My name is Ayush\"\n",
    "B = \"Ayush\"\n",
    "print(uncommon_word(A,B))"
   ]
  },
  {
   "cell_type": "code",
   "execution_count": 22,
   "id": "d05a3fed-5d6b-441f-a652-a369157156c2",
   "metadata": {},
   "outputs": [
    {
     "name": "stdout",
     "output_type": "stream",
     "text": [
      "Duplicate characters in a given string: \n",
      "y\n",
      "s\n"
     ]
    }
   ],
   "source": [
    "string = \"My name is Ayush\";    \n",
    "print(\"Duplicate characters in a given string: \");  \n",
    "for i in range(0, len(string)):  \n",
    "    count = 1;  \n",
    "    for j in range(i+1, len(string)):  \n",
    "        if(string[i] == string[j] and string[i] != ' '):  \n",
    "            count = count + 1;  \n",
    "            string = string[:j] + '0' + string[j+1:];  \n",
    "   \n",
    "    if(count > 1 and string[i] != '0'):\n",
    "        print(string[i]);  "
   ]
  },
  {
   "cell_type": "code",
   "execution_count": 23,
   "id": "9e2c1582-0215-46e3-a2c8-4616e2e4af6d",
   "metadata": {},
   "outputs": [
    {
     "name": "stdout",
     "output_type": "stream",
     "text": [
      "String is not accepted.\n"
     ]
    }
   ],
   "source": [
    "import re \n",
    "def run(string):\n",
    "    regex = re.compile('[@_!#$%^&*()<>?/\\|}{~:]')\n",
    "    if(regex.search(string) == None):\n",
    "        print(\"String is accepted\")\n",
    "    else:\n",
    "        print(\"String is not accepted.\")\n",
    "     \n",
    " \n",
    "# Driver Code\n",
    "if __name__ == '__main__' :\n",
    "     \n",
    "    # Enter the string\n",
    "    string = \"Geeks$For$Geeks\"\n",
    "     \n",
    "    # calling run function\n",
    "    run(string)"
   ]
  },
  {
   "cell_type": "code",
   "execution_count": null,
   "id": "98fe8794-bdbf-47cf-b74e-b24c72d21935",
   "metadata": {},
   "outputs": [],
   "source": []
  }
 ],
 "metadata": {
  "kernelspec": {
   "display_name": "Python 3 (ipykernel)",
   "language": "python",
   "name": "python3"
  },
  "language_info": {
   "codemirror_mode": {
    "name": "ipython",
    "version": 3
   },
   "file_extension": ".py",
   "mimetype": "text/x-python",
   "name": "python",
   "nbconvert_exporter": "python",
   "pygments_lexer": "ipython3",
   "version": "3.9.6"
  }
 },
 "nbformat": 4,
 "nbformat_minor": 5
}
