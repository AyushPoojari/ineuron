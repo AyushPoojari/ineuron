{
 "cells": [
  {
   "cell_type": "code",
   "execution_count": 3,
   "id": "a644a266-3157-4f9e-b7e6-5cd0b0f6e410",
   "metadata": {},
   "outputs": [
    {
     "ename": "SyntaxError",
     "evalue": "invalid syntax (Temp/ipykernel_5788/2156652614.py, line 2)",
     "output_type": "error",
     "traceback": [
      "\u001b[1;36m  File \u001b[1;32m\"C:\\Users\\AYUSHP~1\\AppData\\Local\\Temp/ipykernel_5788/2156652614.py\"\u001b[1;36m, line \u001b[1;32m2\u001b[0m\n\u001b[1;33m    Question1. Write a function that stutters a word as if someone is struggling to read it. The first two letters are repeated twice with an ellipsis ... and space after each, and then the word is pronounced with a question mark ?.\u001b[0m\n\u001b[1;37m                     ^\u001b[0m\n\u001b[1;31mSyntaxError\u001b[0m\u001b[1;31m:\u001b[0m invalid syntax\n"
     ]
    }
   ],
   "source": [
    "Question1. Write a function that stutters a word as if someone is struggling to read it. The first two letters are repeated twice with an ellipsis ... and space after each, and then the word is pronounced with a question mark ?.\n",
    "Examples\n",
    "stutter(\"incredible\") ➞ \"in... in... incredible?\"\n",
    "\n",
    "stutter(\"enthusiastic\") ➞ \"en... en... enthusiastic?\"\n",
    "\n",
    "stutter(\"outstanding\") ➞ \"ou... ou... outstanding?\"\n",
    "\n",
    "Hint :- Assume all input is in lower case and at least two characters long.\n",
    "\n",
    "Question 2.Create a function that takes an angle in radians and returns the corresponding angle in degrees rounded to one decimal place.\n",
    "Examples\n",
    "radians_to_degrees(1) ➞ 57.3\n",
    "\n",
    "radians_to_degrees(20) ➞ 1145.9\n",
    "\n",
    "radians_to_degrees(50) ➞ 2864.8\n",
    "\n",
    "\n",
    "Question 3. In this challenge, establish if a given integer num is a Curzon number. If 1 plus 2 elevated to num is exactly divisible by 1 plus 2 multiplied by num, then num is a Curzon number.\n",
    "Given a non-negative integer num, implement a function that returns True if num is a Curzon number, or False otherwise.\n",
    "Examples\n",
    "is_curzon(5) ➞ True\n",
    "# 2 ** 5 + 1 = 33\n",
    "# 2 * 5 + 1 = 11\n",
    "# 33 is a multiple of 11\n",
    "\n",
    "is_curzon(10) ➞ False\n",
    "# 2 ** 10 + 1 = 1025\n",
    "# 2 * 10 + 1 = 21\n",
    "# 1025 is not a multiple of 21\n",
    "\n",
    "is_curzon(14) ➞ True\n",
    "# 2 ** 14 + 1 = 16385\n",
    "# 2 * 14 + 1 = 29\n",
    "# 16385 is a multiple of 29\n",
    "\n",
    "Question 4.Given the side length x find the area of a hexagon.\n",
    " \n",
    "Examples\n",
    "area_of_hexagon(1) ➞ 2.6\n",
    "\n",
    "area_of_hexagon(2) ➞ 10.4\n",
    "\n",
    "area_of_hexagon(3) ➞ 23.4\n",
    "\n",
    "\n",
    "\n",
    "Question 5. Create a function that returns a base-2 (binary) representation of a base-10 (decimal) string number. To convert is simple: ((2) means base-2 and (10) means base-10) 010101001(2) = 1 + 8 + 32 + 128.\n",
    "Going from right to left, the value of the most right bit is 1, now from that every bit to the left will be x2 the value, value of an 8 bit binary numbers are (256, 128, 64, 32, 16, 8, 4, 2, 1).\n",
    "Examples\n",
    "binary(1) ➞ \"1\"\n",
    "# 1*1 = 1\n",
    "\n",
    "binary(5) ➞ \"101\"\n",
    "# 1*1 + 1*4 = 5\n",
    "\n",
    "binary(10) ➞ \"1010\"\n",
    "# 1*2 + 1*8 = 10"
   ]
  },
  {
   "cell_type": "code",
   "execution_count": 1,
   "id": "141d2041-441f-40cf-9f49-bfb550ac3210",
   "metadata": {},
   "outputs": [
    {
     "name": "stdout",
     "output_type": "stream",
     "text": [
      "in... in... incredible?\n"
     ]
    }
   ],
   "source": [
    "#Q.1\n",
    "def stutter(word):\n",
    "    s = word[:2]\n",
    "    return (2 * (s + '... ')) + word + '?'\n",
    "\n",
    "\n",
    "print(stutter(\"incredible\"))"
   ]
  },
  {
   "cell_type": "code",
   "execution_count": 2,
   "id": "4a36edb2-3a3a-4181-a94c-76aed8db18d8",
   "metadata": {},
   "outputs": [
    {
     "name": "stdout",
     "output_type": "stream",
     "text": [
      "degree = 286.4791395439889\n"
     ]
    }
   ],
   "source": [
    "#Q.2\n",
    "def Convert(radian):\n",
    "    pi = 3.14159\n",
    "    # Simply used the formula\n",
    "    degree = radian * (180/pi)\n",
    "    return degree\n",
    " \n",
    "# Driver Code\n",
    "radian = 5\n",
    "print(\"degree =\",(Convert(radian)))"
   ]
  },
  {
   "cell_type": "code",
   "execution_count": 4,
   "id": "eac5c638-cea0-4fab-b788-23baacebfbb4",
   "metadata": {},
   "outputs": [
    {
     "name": "stdout",
     "output_type": "stream",
     "text": [
      "True\n"
     ]
    }
   ],
   "source": [
    "#Q.3\n",
    "def is_curzon(N):\n",
    " \n",
    "    powerTerm, productTerm = 0, 0\n",
    " \n",
    "    # Find 2^N + 1\n",
    "    powerTerm = pow(2, N) + 1\n",
    " \n",
    "    # Find 2*N + 1\n",
    "    productTerm = 2 * N + 1\n",
    " \n",
    "    # Check for divisibility\n",
    "    if (powerTerm % productTerm == 0):\n",
    "        return True\n",
    "    return False\n",
    "print(is_curzon(5))"
   ]
  },
  {
   "cell_type": "code",
   "execution_count": 6,
   "id": "a7414d8b-30dd-4eb5-a807-559a0755b706",
   "metadata": {},
   "outputs": [
    {
     "name": "stdout",
     "output_type": "stream",
     "text": [
      "Area: 41.5692\n"
     ]
    }
   ],
   "source": [
    "#Q.4\n",
    "import math\n",
    "def hexagonArea(s):\n",
    "    return ((3 * math.sqrt(3) *(s * s)) / 2);\n",
    "     \n",
    "s = 4\n",
    "print(\"Area:\",\"{0:.4f}\" .format(hexagonArea(s)))"
   ]
  },
  {
   "cell_type": "code",
   "execution_count": 8,
   "id": "dd5b2274-26eb-4edf-a6a0-55556ab6fe78",
   "metadata": {},
   "outputs": [
    {
     "name": "stdout",
     "output_type": "stream",
     "text": [
      "1\n"
     ]
    }
   ],
   "source": [
    "#Q.5\n",
    "def any_base_to_decimal(number, base):\n",
    "    temp = int(number, base)\n",
    "    print(temp)\n",
    "  \n",
    "# Driver's Code\n",
    "if __name__ == '__main__' :\n",
    "    hexadecimal_number = '1'\n",
    "    base = 2\n",
    "    any_base_to_decimal(hexadecimal_number, base)"
   ]
  },
  {
   "cell_type": "code",
   "execution_count": null,
   "id": "72a61191-30ac-459e-b1ec-d1f312779c0b",
   "metadata": {},
   "outputs": [],
   "source": []
  }
 ],
 "metadata": {
  "kernelspec": {
   "display_name": "Python 3 (ipykernel)",
   "language": "python",
   "name": "python3"
  },
  "language_info": {
   "codemirror_mode": {
    "name": "ipython",
    "version": 3
   },
   "file_extension": ".py",
   "mimetype": "text/x-python",
   "name": "python",
   "nbconvert_exporter": "python",
   "pygments_lexer": "ipython3",
   "version": "3.9.6"
  }
 },
 "nbformat": 4,
 "nbformat_minor": 5
}
